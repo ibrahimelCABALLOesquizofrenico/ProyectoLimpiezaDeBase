{
 "cells": [
  {
   "cell_type": "code",
   "execution_count": 27,
   "id": "8fdbc77c",
   "metadata": {},
   "outputs": [],
   "source": [
    "import regrex as re\n"
   ]
  },
  {
   "cell_type": "code",
   "execution_count": null,
   "id": "7ce3af69",
   "metadata": {},
   "outputs": [
    {
     "name": "stdout",
     "output_type": "stream",
     "text": [
      "Intento 1: Columna con más del 10% de NaNs. Reintentando...\n",
      "Intento 2: Columna con más del 10% de NaNs. Reintentando...\n",
      "Intento 3: Columna con más del 10% de NaNs. Reintentando...\n",
      "Intento 4: Columna con más del 10% de NaNs. Reintentando...\n",
      "Intento 5: Columna con más del 10% de NaNs. Reintentando...\n",
      "Intento 6: Columna con más del 10% de NaNs. Reintentando...\n",
      "Intento 7: Columna con más del 10% de NaNs. Reintentando...\n",
      "Intento 8: Columna con más del 10% de NaNs. Reintentando...\n",
      "Intento 9: Columna con más del 10% de NaNs. Reintentando...\n",
      "✅ DataFrame ensuciado correctamente en el intento 10.\n",
      "\n",
      "--- Reporte de NaNs ---\n",
      "name            1867\n",
      "release_date    1867\n",
      "price           3079\n",
      "positive        1867\n",
      "negative        1867\n",
      "app_id          1867\n",
      "min_owners      1867\n",
      "max_owners      1867\n",
      "hltb_single     1867\n",
      "dtype: int64\n",
      "\n",
      "Tamaño final del DataFrame: (62257, 9)\n"
     ]
    }
   ],
   "source": [
    "import pandas as pd\n",
    "import numpy as np\n",
    "import random\n",
    "\n",
    "def ensuciar_df(\n",
    "    df_original,\n",
    "    porcentaje_duplicados=0.3,\n",
    "    porcentaje_invalid=0.02,\n",
    "    porcentaje_nan=0.03,\n",
    "    max_nan_col=10,\n",
    "    max_intentos=30,\n",
    "    verbose=True\n",
    "):\n",
    "    \"\"\"Ensucia un DataFrame introduciendo duplicados, NaNs, errores de tipo y valores inválidos.\"\"\"\n",
    "    df = df_original.copy()\n",
    "\n",
    "    for intento in range(max_intentos):\n",
    "        df_temp = df.copy()\n",
    "\n",
    "        # ----- 1. Duplicar filas -----\n",
    "        num_duplicados = random.randint(1, int(len(df_temp) * porcentaje_duplicados))\n",
    "        duplicadas = df_temp.sample(n=num_duplicados, replace=True, random_state=random.randint(0, 9999))\n",
    "        df_temp = pd.concat([df_temp, duplicadas], ignore_index=True)\n",
    "\n",
    "        # ----- 2. Insertar valores inválidos -----\n",
    "        num_invalid = int(len(df_temp) * porcentaje_invalid)\n",
    "        columnas_invalid = random.sample(df_temp.columns.tolist(), max(1, len(df_temp.columns) // 2))\n",
    "        for col in columnas_invalid:\n",
    "            if df_temp[col].dtype != \"object\":\n",
    "                df_temp[col] = df_temp[col].astype(\"object\")\n",
    "\n",
    "            valid_indices = df_temp.index[df_temp[col].notna()]\n",
    "            if len(valid_indices) > 0:\n",
    "                invalid_indices = np.random.choice(valid_indices, size=min(num_invalid, len(valid_indices)), replace=False)\n",
    "                df_temp.loc[invalid_indices, col] = \"Auto%#\"\n",
    "\n",
    "        # ----- 3. Cambiar tipos de columnas -----\n",
    "        columnas_a_cambiar = random.sample(df_temp.columns.tolist(), max(1, len(df_temp.columns) // 2))\n",
    "        for col in columnas_a_cambiar:\n",
    "            if pd.api.types.is_numeric_dtype(df_temp[col]):\n",
    "                df_temp[col] = df_temp[col].astype(str)\n",
    "            else:\n",
    "                df_temp[col] = pd.to_numeric(df_temp[col], errors=\"coerce\")\n",
    "\n",
    "        # ----- 4. Insertar NaNs -----\n",
    "        num_nan = int(len(df_temp) * porcentaje_nan)\n",
    "        for column in df_temp.columns:\n",
    "            nan_indices = np.random.choice(df_temp.index, size=min(num_nan, len(df_temp)), replace=False)\n",
    "            df_temp.loc[nan_indices, column] = np.nan\n",
    "\n",
    "        # ----- 5. Validar límite de NaNs -----\n",
    "        nan_porcentaje = df_temp.isnull().mean() * 100\n",
    "        if (nan_porcentaje > max_nan_col).any():\n",
    "            if verbose:\n",
    "                print(f\"Intento {intento + 1}: Columna con más del {max_nan_col}% de NaNs. Reintentando...\")\n",
    "            continue\n",
    "        else:\n",
    "            if verbose:\n",
    "                print(f\"✅ DataFrame ensuciado correctamente en el intento {intento + 1}.\")\n",
    "            return df_temp\n",
    "\n",
    "    raise ValueError(f\"No se logró generar un DataFrame válido en {max_intentos} intentos.\")\n",
    "\n",
    "#Cargar csv y lerlo\n",
    "ruta_csv = 'https://raw.githubusercontent.com/ibrahimelCABALLOesquizofrenico/Proyecto-cienciasdedatos/refs/heads/main/games%20steam%202013-2023.csv?token=GHSAT0AAAAAADMMHO5CLYHPHXXPCII4ELRK2HVAHQA'\n",
    "df = pd.read_csv(ruta_csv)\n",
    "\n",
    "df_sucio = ensuciar_df(df)\n",
    "\n",
    "# Guardar el resultado\n",
    "df_sucio.to_csv(\"df_sucio.csv\", index=False)\n",
    "\n",
    "# Reporte final\n",
    "print(\"\\n--- Reporte de NaNs ---\")\n",
    "print(df_sucio.isnull().sum())\n",
    "print(f\"\\nTamaño final del DataFrame: {df_sucio.shape}\")\n"
   ]
  },
  {
   "cell_type": "code",
   "execution_count": null,
   "id": "2688e492",
   "metadata": {},
   "outputs": [
    {
     "name": "stdout",
     "output_type": "stream",
     "text": [
      "Intento 1: hay columnas con más del 10% de NaNs, reintentando...\n",
      "Intento 2: hay columnas con más del 10% de NaNs, reintentando...\n",
      "✅ Finalización exitosa en el intento 3: no hay columnas con más del 10% de NaNs.\n",
      "\n",
      "--- Reporte final de NaNs ---\n",
      "name               0\n",
      "release_date       0\n",
      "price           3881\n",
      "positive        3881\n",
      "negative        5367\n",
      "app_id          3881\n",
      "min_owners      3881\n",
      "max_owners      3881\n",
      "hltb_single     3881\n",
      "dtype: int64\n",
      "\n",
      "Tamaño final del DataFrame: (77628, 9)\n"
     ]
    }
   ],
   "source": [
    "import pandas as pd\n",
    "import numpy as np\n",
    "import random\n",
    "\n",
    "def ensuciar_df(\n",
    "    df_original,\n",
    "    columnas_protegidas=None,\n",
    "    porcentaje_duplicados=0.3,\n",
    "    porcentaje_invalid=0.02,\n",
    "    porcentaje_nan=0.05,\n",
    "    valor_invalid='bbb'\n",
    "):\n",
    "    \"\"\"Ensucia un DataFrame introduciendo duplicados, valores inválidos, cambios de tipo y NaNs,\n",
    "    excluyendo las columnas protegidas.\"\"\"\n",
    "    \n",
    "    df = df_original.copy()\n",
    "    columnas_protegidas = columnas_protegidas or []\n",
    "    columnas_modificables = [c for c in df.columns if c not in columnas_protegidas]\n",
    "\n",
    "    # 1️⃣ Duplicar algunas filas aleatorias (esto afecta todas las columnas, pero no modifica su contenido)\n",
    "    num_duplicados = random.randint(1, int(len(df) * porcentaje_duplicados))\n",
    "    duplicadas = df.sample(n=num_duplicados, replace=True, random_state=random.randint(0, 9999))\n",
    "    df = pd.concat([df, duplicadas], ignore_index=True)\n",
    "\n",
    "    # 2️⃣ Insertar valores inválidos en columnas aleatorias (excepto las protegidas)\n",
    "    num_invalid = int(len(df) * porcentaje_invalid)\n",
    "    columnas_invalid = random.sample(columnas_modificables, max(1, len(columnas_modificables) // 2))\n",
    "    for col in columnas_invalid:\n",
    "        if df[col].dtype != \"object\":\n",
    "            df[col] = df[col].astype(\"object\")\n",
    "\n",
    "        valid_indices = df.index[df[col].notna()]\n",
    "        if len(valid_indices) > 0:\n",
    "            invalid_indices = np.random.choice(valid_indices, size=min(num_invalid, len(valid_indices)), replace=False)\n",
    "            df.loc[invalid_indices, col] = valor_invalid\n",
    "\n",
    "    # 3️⃣ Cambiar tipos de formato en columnas aleatorias (excepto las protegidas)\n",
    "    columnas_a_cambiar = random.sample(columnas_modificables, max(1, len(columnas_modificables) // 2))\n",
    "    for col in columnas_a_cambiar:\n",
    "        if pd.api.types.is_numeric_dtype(df[col]):\n",
    "            df[col] = df[col].astype(str)\n",
    "        else:\n",
    "            df[col] = pd.to_numeric(df[col], errors=\"coerce\")\n",
    "\n",
    "    # 4️⃣ Insertar NaNs en columnas modificables solamente\n",
    "    num_nan = int(len(df) * porcentaje_nan)\n",
    "    for column in columnas_modificables:\n",
    "        nan_indices = np.random.choice(df.index, size=min(num_nan, len(df)), replace=False)\n",
    "        df.loc[nan_indices, column] = np.nan\n",
    "\n",
    "    return df\n",
    "\n",
    "# Cargar el CSV y aplicar las modificaciones\n",
    "ruta_csv = \"https://raw.githubusercontent.com/ibrahimelCABALLOesquizofrenico/Proyecto-cienciasdedatos/refs/heads/main/games%20steam%202013-2023.csv?token=GHSAT0AAAAAADMMHO5CNDIYW5QPKFKZYRWU2HVAJVA\"\n",
    "df = pd.read_csv(ruta_csv)\n",
    "\n",
    "# Columnas que no deben ensuciarse\n",
    "columnas_protegidas = [\"name\", \"release_date\"]\n",
    "\n",
    "# Intentos\n",
    "max_intentos = 100\n",
    "\n",
    "for intento in range(1, max_intentos + 1):\n",
    "    df_sucio = ensuciar_df(df, columnas_protegidas=columnas_protegidas)\n",
    "\n",
    "    # Calcular porcentaje de NaNs en columnas modificables\n",
    "    nan_porcentaje = df_sucio.drop(columns=columnas_protegidas, errors=\"ignore\").isnull().mean() * 100\n",
    "\n",
    "    if (nan_porcentaje > 10).any():\n",
    "        print(f\"Intento {intento}: hay columnas con más del 10% de NaNs, reintentando...\")\n",
    "    else:\n",
    "        print(f\"✅ Finalización exitosa en el intento {intento}: no hay columnas con más del 10% de NaNs.\")\n",
    "        break\n",
    "else:\n",
    "    print(\"⚠️ Se alcanzó el número máximo de intentos sin lograr un DataFrame válido.\")\n",
    "\n",
    "# Guardar el DataFrame sucio\n",
    "df_sucio.to_csv(\"df_sucio.csv\", index=False)\n",
    "\n",
    "# Mostrar resumen\n",
    "print(\"\\n--- Reporte final de NaNs ---\")\n",
    "print(df_sucio.isnull().sum())\n",
    "print(f\"\\nTamaño final del DataFrame: {df_sucio.shape}\")\n",
    "\n"
   ]
  },
  {
   "cell_type": "code",
   "execution_count": 42,
   "id": "b0d2c8e2",
   "metadata": {},
   "outputs": [
    {
     "data": {
      "text/html": [
       "<div>\n",
       "<style scoped>\n",
       "    .dataframe tbody tr th:only-of-type {\n",
       "        vertical-align: middle;\n",
       "    }\n",
       "\n",
       "    .dataframe tbody tr th {\n",
       "        vertical-align: top;\n",
       "    }\n",
       "\n",
       "    .dataframe thead th {\n",
       "        text-align: right;\n",
       "    }\n",
       "</style>\n",
       "<table border=\"1\" class=\"dataframe\">\n",
       "  <thead>\n",
       "    <tr style=\"text-align: right;\">\n",
       "      <th></th>\n",
       "      <th>nombre</th>\n",
       "      <th>fecha_de_lanzamiento</th>\n",
       "      <th>precio</th>\n",
       "      <th>calificacion_positivas</th>\n",
       "      <th>calificacion_negativas</th>\n",
       "      <th>id_del_juego</th>\n",
       "      <th>minimo_de_dueños</th>\n",
       "      <th>maximo_de_dueños</th>\n",
       "      <th>duracion_de_la_campaña_aprox</th>\n",
       "    </tr>\n",
       "  </thead>\n",
       "  <tbody>\n",
       "    <tr>\n",
       "      <th>0</th>\n",
       "      <td>Train Bandit</td>\n",
       "      <td>Oct 12, 2017</td>\n",
       "      <td>0.99</td>\n",
       "      <td>53.0</td>\n",
       "      <td>5.0</td>\n",
       "      <td>655370</td>\n",
       "      <td>0</td>\n",
       "      <td>20000.0</td>\n",
       "      <td>NaN</td>\n",
       "    </tr>\n",
       "    <tr>\n",
       "      <th>1</th>\n",
       "      <td>Henosis™</td>\n",
       "      <td>Jul 23, 2020</td>\n",
       "      <td>5.99</td>\n",
       "      <td>3.0</td>\n",
       "      <td>0.0</td>\n",
       "      <td>1355720</td>\n",
       "      <td>0</td>\n",
       "      <td>20000.0</td>\n",
       "      <td>NaN</td>\n",
       "    </tr>\n",
       "    <tr>\n",
       "      <th>2</th>\n",
       "      <td>Two Weeks in Painland</td>\n",
       "      <td>Feb 3, 2020</td>\n",
       "      <td>0.00</td>\n",
       "      <td>50.0</td>\n",
       "      <td>8.0</td>\n",
       "      <td>1139950</td>\n",
       "      <td>0</td>\n",
       "      <td>NaN</td>\n",
       "      <td>NaN</td>\n",
       "    </tr>\n",
       "    <tr>\n",
       "      <th>3</th>\n",
       "      <td>Wartune Reborn</td>\n",
       "      <td>Feb 26, 2021</td>\n",
       "      <td>0.00</td>\n",
       "      <td>87.0</td>\n",
       "      <td>49.0</td>\n",
       "      <td>NaN</td>\n",
       "      <td>50000</td>\n",
       "      <td>100000.0</td>\n",
       "      <td>NaN</td>\n",
       "    </tr>\n",
       "    <tr>\n",
       "      <th>4</th>\n",
       "      <td>TD Worlds</td>\n",
       "      <td>Jan 9, 2022</td>\n",
       "      <td>10.99</td>\n",
       "      <td>21.0</td>\n",
       "      <td>7.0</td>\n",
       "      <td>1659180</td>\n",
       "      <td>0</td>\n",
       "      <td>20000.0</td>\n",
       "      <td>NaN</td>\n",
       "    </tr>\n",
       "  </tbody>\n",
       "</table>\n",
       "</div>"
      ],
      "text/plain": [
       "                  nombre fecha_de_lanzamiento  precio  calificacion_positivas  \\\n",
       "0           Train Bandit         Oct 12, 2017    0.99                    53.0   \n",
       "1               Henosis™         Jul 23, 2020    5.99                     3.0   \n",
       "2  Two Weeks in Painland          Feb 3, 2020    0.00                    50.0   \n",
       "3         Wartune Reborn         Feb 26, 2021    0.00                    87.0   \n",
       "4              TD Worlds          Jan 9, 2022   10.99                    21.0   \n",
       "\n",
       "   calificacion_negativas id_del_juego minimo_de_dueños  maximo_de_dueños  \\\n",
       "0                     5.0       655370                0           20000.0   \n",
       "1                     0.0      1355720                0           20000.0   \n",
       "2                     8.0      1139950                0               NaN   \n",
       "3                    49.0          NaN            50000          100000.0   \n",
       "4                     7.0      1659180                0           20000.0   \n",
       "\n",
       "   duracion_de_la_campaña_aprox  \n",
       "0                           NaN  \n",
       "1                           NaN  \n",
       "2                           NaN  \n",
       "3                           NaN  \n",
       "4                           NaN  "
      ]
     },
     "execution_count": 42,
     "metadata": {},
     "output_type": "execute_result"
    }
   ],
   "source": [
    "df_sucio.head()"
   ]
  },
  {
   "cell_type": "markdown",
   "id": "9dfd2661",
   "metadata": {},
   "source": [
    "## **Inicio de la limpieza de la base de datos**"
   ]
  },
  {
   "cell_type": "code",
   "execution_count": null,
   "id": "8163ab8f",
   "metadata": {},
   "outputs": [
    {
     "name": "stdout",
     "output_type": "stream",
     "text": [
      "<class 'pandas.core.frame.DataFrame'>\n",
      "RangeIndex: 60952 entries, 0 to 60951\n",
      "Data columns (total 9 columns):\n",
      " #   Column        Non-Null Count  Dtype  \n",
      "---  ------        --------------  -----  \n",
      " 0   name          60952 non-null  object \n",
      " 1   release_date  60952 non-null  object \n",
      " 2   price         60952 non-null  float64\n",
      " 3   positive      60952 non-null  int64  \n",
      " 4   negative      60952 non-null  int64  \n",
      " 5   app_id        60952 non-null  int64  \n",
      " 6   min_owners    60952 non-null  int64  \n",
      " 7   max_owners    60952 non-null  int64  \n",
      " 8   hltb_single   12972 non-null  float64\n",
      "dtypes: float64(2), int64(5), object(2)\n",
      "memory usage: 4.2+ MB\n"
     ]
    }
   ],
   "source": [
    "df.info()"
   ]
  },
  {
   "cell_type": "code",
   "execution_count": 38,
   "id": "08ef3124",
   "metadata": {},
   "outputs": [
    {
     "data": {
      "text/plain": [
       "(60952, 9)"
      ]
     },
     "execution_count": 38,
     "metadata": {},
     "output_type": "execute_result"
    }
   ],
   "source": [
    "df.shape"
   ]
  },
  {
   "cell_type": "code",
   "execution_count": null,
   "id": "b6087702",
   "metadata": {},
   "outputs": [
    {
     "name": "stdout",
     "output_type": "stream",
     "text": [
      "<class 'pandas.core.frame.DataFrame'>\n",
      "RangeIndex: 67420 entries, 0 to 67419\n",
      "Data columns (total 9 columns):\n",
      " #   Column        Non-Null Count  Dtype  \n",
      "---  ------        --------------  -----  \n",
      " 0   name          67420 non-null  object \n",
      " 1   release_date  67420 non-null  object \n",
      " 2   price         64049 non-null  float64\n",
      " 3   positive      64049 non-null  float64\n",
      " 4   negative      62759 non-null  float64\n",
      " 5   app_id        64049 non-null  float64\n",
      " 6   min_owners    62762 non-null  float64\n",
      " 7   max_owners    64049 non-null  object \n",
      " 8   hltb_single   13616 non-null  float64\n",
      "dtypes: float64(6), object(3)\n",
      "memory usage: 4.6+ MB\n"
     ]
    }
   ],
   "source": [
    "df_sucio.info()"
   ]
  },
  {
   "cell_type": "code",
   "execution_count": null,
   "id": "f6137158",
   "metadata": {},
   "outputs": [
    {
     "data": {
      "text/plain": [
       "name                0\n",
       "release_date        0\n",
       "price            3371\n",
       "positive         3371\n",
       "negative         4661\n",
       "app_id           3371\n",
       "min_owners       4658\n",
       "max_owners       3371\n",
       "hltb_single     53804\n",
       "dtype: int64"
      ]
     },
     "execution_count": 18,
     "metadata": {},
     "output_type": "execute_result"
    }
   ],
   "source": [
    "df_sucio.isnull().sum()"
   ]
  },
  {
   "cell_type": "code",
   "execution_count": 39,
   "id": "8a4d81d1",
   "metadata": {},
   "outputs": [
    {
     "data": {
      "text/plain": [
       "(77628, 9)"
      ]
     },
     "execution_count": 39,
     "metadata": {},
     "output_type": "execute_result"
    }
   ],
   "source": [
    "df_sucio.shape"
   ]
  },
  {
   "cell_type": "code",
   "execution_count": 50,
   "id": "4038cca4",
   "metadata": {},
   "outputs": [
    {
     "name": "stderr",
     "output_type": "stream",
     "text": [
      "C:\\Users\\patri\\AppData\\Local\\Temp\\ipykernel_15816\\2544998163.py:25: FutureWarning: errors='ignore' is deprecated and will raise in a future version. Use to_numeric without passing `errors` and catch exceptions explicitly instead\n",
      "  df_limpio = df_limpio.apply(pd.to_numeric, errors=\"ignore\")\n"
     ]
    },
    {
     "name": "stdout",
     "output_type": "stream",
     "text": [
      "✅ Limpieza completada.\n",
      "\n",
      "--- Vista previa del DataFrame limpio ---\n",
      "                    name  release_date  price  positive  negative   app_id  \\\n",
      "0           Train Bandit  Oct 12, 2017   0.99      53.0       5.0   655370   \n",
      "1               Henosis™  Jul 23, 2020   5.99       3.0       0.0  1355720   \n",
      "2  Two Weeks in Painland   Feb 3, 2020   0.00      50.0       8.0  1139950   \n",
      "3         Wartune Reborn  Feb 26, 2021   0.00      87.0      49.0        0   \n",
      "4              TD Worlds   Jan 9, 2022  10.99      21.0       7.0  1659180   \n",
      "\n",
      "   min_owners  max_owners  hltb_single  \n",
      "0           0     20000.0          0.0  \n",
      "1           0     20000.0          0.0  \n",
      "2           0         0.0          0.0  \n",
      "3       50000    100000.0          0.0  \n",
      "4           0     20000.0          0.0  \n",
      "\n",
      "--- Comprobación de NaNs ---\n",
      "name            0\n",
      "release_date    0\n",
      "price           0\n",
      "positive        0\n",
      "negative        0\n",
      "app_id          0\n",
      "min_owners      0\n",
      "max_owners      0\n",
      "hltb_single     0\n",
      "dtype: int64\n"
     ]
    }
   ],
   "source": [
    "import pandas as pd\n",
    "import numpy as np\n",
    "\n",
    "def limpiar_df(df, palabras_basura=None):\n",
    "    \"\"\"\n",
    "    Limpia un DataFrame reemplazando NaNs por 0 y eliminando palabras basura.\n",
    "    \"\"\"\n",
    "    df_limpio = df.copy()\n",
    "\n",
    "    # 1️⃣ Reemplazar NaN con 0\n",
    "    df_limpio = df_limpio.fillna(0)\n",
    "\n",
    "    # 2️⃣ Definir palabras basura a eliminar\n",
    "    if palabras_basura is None:\n",
    "        palabras_basura = [\"bbb\", \"Auto%#\", \"invalid\", \"error\", \"nan\", \"NaN\"]\n",
    "\n",
    "    # 3️⃣ Reemplazar palabras basura por 0 (sin afectar valores numéricos)\n",
    "    for col in df_limpio.columns:\n",
    "        if df_limpio[col].dtype == \"object\":\n",
    "            df_limpio[col] = df_limpio[col].replace(palabras_basura, 0)\n",
    "            # También eliminar espacios extra o caracteres raros\n",
    "            df_limpio[col] = df_limpio[col].astype(str).str.strip()\n",
    "\n",
    "    # 4️⃣ Intentar volver a convertir a numérico donde sea posible\n",
    "    df_limpio = df_limpio.apply(pd.to_numeric, errors=\"ignore\")\n",
    "\n",
    "    return df_limpio\n",
    "\n",
    "# Cargar el DataFrame sucio que generaste\n",
    "df_sucio = pd.read_csv(\"df_sucio.csv\")\n",
    "\n",
    "# Limpiar el DataFrame\n",
    "df_limpio = limpiar_df(df_sucio)\n",
    "\n",
    "# Guardar el resultado limpio\n",
    "df_limpio.to_csv(\"df_limpio.csv\", index=False)\n",
    "\n",
    "# Verificar los cambios\n",
    "print(\"✅ Limpieza completada.\")\n",
    "print(\"\\n--- Vista previa del DataFrame limpio ---\")\n",
    "print(df_limpio.head())\n",
    "print(\"\\n--- Comprobación de NaNs ---\")\n",
    "print(df_limpio.isnull().sum())\n"
   ]
  },
  {
   "cell_type": "markdown",
   "id": "f389305a",
   "metadata": {},
   "source": [
    "## **Resultado final**"
   ]
  },
  {
   "cell_type": "code",
   "execution_count": null,
   "id": "ca2a2cbd",
   "metadata": {},
   "outputs": [
    {
     "data": {
      "text/plain": [
       "name            0\n",
       "release_date    0\n",
       "price           0\n",
       "positive        0\n",
       "negative        0\n",
       "app_id          0\n",
       "min_owners      0\n",
       "max_owners      0\n",
       "hltb_single     0\n",
       "dtype: int64"
      ]
     },
     "execution_count": 8,
     "metadata": {},
     "output_type": "execute_result"
    }
   ],
   "source": [
    "df_limpio.isnull().sum()"
   ]
  },
  {
   "cell_type": "code",
   "execution_count": 36,
   "id": "050f3506",
   "metadata": {},
   "outputs": [
    {
     "name": "stdout",
     "output_type": "stream",
     "text": [
      "<class 'pandas.core.frame.DataFrame'>\n",
      "RangeIndex: 77628 entries, 0 to 77627\n",
      "Data columns (total 9 columns):\n",
      " #   Column        Non-Null Count  Dtype  \n",
      "---  ------        --------------  -----  \n",
      " 0   name          77628 non-null  object \n",
      " 1   release_date  77628 non-null  object \n",
      " 2   price         77628 non-null  float64\n",
      " 3   positive      77628 non-null  float64\n",
      " 4   negative      77628 non-null  float64\n",
      " 5   app_id        77628 non-null  int64  \n",
      " 6   min_owners    77628 non-null  int64  \n",
      " 7   max_owners    77628 non-null  float64\n",
      " 8   hltb_single   77628 non-null  float64\n",
      "dtypes: float64(5), int64(2), object(2)\n",
      "memory usage: 5.3+ MB\n"
     ]
    }
   ],
   "source": [
    "df_limpio.info()"
   ]
  },
  {
   "cell_type": "code",
   "execution_count": 37,
   "id": "6a52eb37",
   "metadata": {},
   "outputs": [
    {
     "data": {
      "text/plain": [
       "(77628, 9)"
      ]
     },
     "execution_count": 37,
     "metadata": {},
     "output_type": "execute_result"
    }
   ],
   "source": [
    "df_limpio.shape"
   ]
  },
  {
   "cell_type": "markdown",
   "id": "e5d4cca3",
   "metadata": {},
   "source": [
    "## **Cargar csv limpio y sucio a mi carpeta local**"
   ]
  },
  {
   "cell_type": "code",
   "execution_count": null,
   "id": "ff7a4a59",
   "metadata": {},
   "outputs": [
    {
     "name": "stdout",
     "output_type": "stream",
     "text": [
      "Base de datos sucia creada exitosamente como 'df_sucio.csv'\n"
     ]
    }
   ],
   "source": [
    "import pandas as pd\n",
    "import numpy as np\n",
    "import random\n",
    "\n",
    "# --- Función para ensuciar el DataFrame ---\n",
    "def ensuciar_df(df_original, columnas_protegidas=None):\n",
    "    df = df_original.copy()\n",
    "\n",
    "    # Columnas que no deben ensuciarse\n",
    "    if columnas_protegidas is None:\n",
    "        columnas_protegidas = ['name', 'release_date']\n",
    "\n",
    "    # --- Duplicar algunas filas ---\n",
    "    num_duplicados = random.randint(1, int(len(df) * 0.3))\n",
    "    duplicadas = df.sample(n=num_duplicados, replace=True)\n",
    "    df = pd.concat([df, duplicadas], ignore_index=True)\n",
    "\n",
    "    # --- Insertar valores 'bbb' en columnas no protegidas ---\n",
    "    num_invalid = int(len(df) * 0.02)\n",
    "    columnas_modificables = [c for c in df.columns if c not in columnas_protegidas]\n",
    "\n",
    "    for col in random.sample(columnas_modificables, len(columnas_modificables) // 2):\n",
    "        if df[col].dtype != 'object':\n",
    "            df[col] = df[col].astype('object')\n",
    "        valid_indices = df.index[df[col].notna()]\n",
    "        if len(valid_indices) > 0:\n",
    "            invalid_indices = np.random.choice(valid_indices, size=min(num_invalid, len(valid_indices)), replace=False)\n",
    "            df.loc[invalid_indices, col] = 'bbb'\n",
    "\n",
    "    # --- Cambiar tipos de formato en columnas no protegidas ---\n",
    "    columnas_a_cambiar = random.sample(columnas_modificables, random.randint(1, len(columnas_modificables) // 2))\n",
    "    for col in columnas_a_cambiar:\n",
    "        if pd.api.types.is_numeric_dtype(df[col]):\n",
    "            df[col] = df[col].astype(str)\n",
    "        else:\n",
    "            df[col] = pd.to_numeric(df[col], errors='coerce')\n",
    "\n",
    "    # --- Insertar NaNs en un 5% de las celdas, excepto las protegidas ---\n",
    "    num_nan = int(len(df) * 0.05)\n",
    "    for col in columnas_modificables:\n",
    "        nan_indices = np.random.choice(df.index, size=min(num_nan, len(df)), replace=False)\n",
    "        df.loc[nan_indices, col] = np.nan\n",
    "\n",
    "    return df\n",
    "\n",
    "\n",
    "# --- Cargar el CSV original ---\n",
    "ruta_csv = 'https://raw.githubusercontent.com/ibrahimelCABALLOesquizofrenico/Proyecto-cienciasdedatos/refs/heads/main/games%20steam%202013-2023.csv?token=GHSAT0AAAAAADMMHO5D7IYJ4HS6BMAFWD5Q2HU7PFQ'\n",
    "df = pd.read_csv(ruta_csv)\n",
    "\n",
    "# --- Aplicar el ensuciado ---\n",
    "df_sucio = ensuciar_df(df, columnas_protegidas=['name', 'release_date'])\n",
    "\n",
    "# --- Guardar el DataFrame sucio en un nuevo archivo CSV ---\n",
    "df_sucio.to_csv('df_sucio.csv', index=False, encoding='utf-8-sig')\n",
    "\n",
    "# --- Mensaje de confirmación ---\n",
    "print(\"Base de datos sucia creada exitosamente como 'df_sucio.csv'\")\n"
   ]
  },
  {
   "cell_type": "code",
   "execution_count": 35,
   "id": "5a786fff",
   "metadata": {},
   "outputs": [
    {
     "name": "stderr",
     "output_type": "stream",
     "text": [
      "C:\\Users\\patri\\AppData\\Local\\Temp\\ipykernel_15816\\2316821566.py:16: FutureWarning: errors='ignore' is deprecated and will raise in a future version. Use to_numeric without passing `errors` and catch exceptions explicitly instead\n",
      "  df_limpio[col] = pd.to_numeric(df_limpio[col], errors='ignore')\n"
     ]
    },
    {
     "name": "stdout",
     "output_type": "stream",
     "text": [
      " Base de datos limpia creada exitosamente como 'df_limpio.csv\n"
     ]
    }
   ],
   "source": [
    "import pandas as pd\n",
    "import numpy as np\n",
    "\n",
    "# --- Función para limpiar el DataFrame ---\n",
    "def limpiar_df(df):\n",
    "    df_limpio = df.copy()\n",
    "\n",
    "    # Reemplazar los valores \"bbb\" (o cualquier otro texto basura) por NaN\n",
    "    df_limpio = df_limpio.replace('bbb', np.nan)\n",
    "\n",
    "    # Reemplazar los NaN con 0\n",
    "    df_limpio = df_limpio.fillna(0)\n",
    "\n",
    "    # Asegurar que las columnas numéricas vuelvan a ser tipo numérico cuando sea posible\n",
    "    for col in df_limpio.columns:\n",
    "        df_limpio[col] = pd.to_numeric(df_limpio[col], errors='ignore')\n",
    "\n",
    "    return df_limpio\n",
    "\n",
    "\n",
    "# --- Cargar el CSV sucio ---\n",
    "df_sucio = pd.read_csv('df_sucio.csv')\n",
    "\n",
    "# --- Aplicar la limpieza ---\n",
    "df_limpio = limpiar_df(df_sucio)\n",
    "\n",
    "# --- Guardar el DataFrame limpio ---\n",
    "df_limpio.to_csv('df_limpio.csv', index=False, encoding='utf-8-sig')\n",
    "\n",
    "# --- Confirmación ---\n",
    "print(\" Base de datos limpia creada exitosamente como 'df_limpio.csv\")\n"
   ]
  },
  {
   "cell_type": "markdown",
   "id": "30ffebcd",
   "metadata": {},
   "source": [
    "## **Traduccion de columnnas por medio de un diccionario y la funcion remplace**"
   ]
  },
  {
   "cell_type": "markdown",
   "id": "096e6de2",
   "metadata": {},
   "source": [
    "# Traduccion o que significa cada columna en español\n",
    "\n",
    "name -> nombre(nombre del videojuego)\n",
    "\n",
    "release_date -> fecha de salida(cuando salio el juego)\n",
    "\n",
    "price -> precio(precio del videojuego)\n",
    "\n",
    "positive -> positivo(calificacion positiva del juego)\n",
    "\n",
    "negative -> negativo(calificacion negativa del juego)\n",
    "\n",
    "app_id -> id de la app(numero que representa al juego)\n",
    "\n",
    "min_owners -> minimo de dueños(cantidad minima de dueños que tiene el juego)\n",
    "\n",
    "max_owners -> maximo de dueños(cantidad maxima de dueños que tuvo el juego)\n",
    "\n",
    "hltb_single -> duracion de canpaña en solitario(la duracion en horas mde la campaña en solitario (es aproximado))"
   ]
  },
  {
   "cell_type": "code",
   "execution_count": 41,
   "id": "2ee1c897",
   "metadata": {},
   "outputs": [
    {
     "name": "stdout",
     "output_type": "stream",
     "text": [
      " Archivo 'df_sucio.csv' traducido y guardado como 'df_sucio_es.csv'\n",
      " Archivo 'df_limpio.csv' traducido y guardado como 'df_limpio_es.csv'\n",
      "\n",
      "Traducciones aplicadas:\n",
      "name → nombre\n",
      "release_date → fecha_de_lanzamiento\n",
      "price → precio\n",
      "positive → calificacion_positivas\n",
      "negative → calificacion_negativas\n",
      "app_id → id_del_juego\n",
      "min_owners → minimo_de_dueños\n",
      "max_owners → maximo_de_dueños\n",
      "hltb_single → duracion_de_la_campaña_aprox\n"
     ]
    }
   ],
   "source": [
    "import pandas as pd\n",
    "\n",
    "# --- Diccionario de traducción ---\n",
    "traducciones = {\n",
    "    \"name\": \"nombre\",\n",
    "    \"release_date\": \"fecha_de_lanzamiento\",\n",
    "    \"price\": \"precio\",\n",
    "    \"positive\": \"calificacion_positivas\",\n",
    "    \"negative\": \"calificacion_negativas\",\n",
    "    \"app_id\": \"id_del_juego\",\n",
    "    \"min_owners\": \"minimo_de_dueños\",\n",
    "    \"max_owners\": \"maximo_de_dueños\",\n",
    "    \"hltb_single\": \"duracion_de_la_campaña_aprox\",\n",
    "    }\n",
    "\n",
    "# --- Función para traducir columnas ---\n",
    "def traducir_columnas(df, diccionario):\n",
    "    nuevos_nombres = {col: diccionario.get(col, col) for col in df.columns}\n",
    "    df.rename(columns=nuevos_nombres, inplace=True)\n",
    "    return df, nuevos_nombres\n",
    "\n",
    "# --- Traducir el csv sucio ---\n",
    "try:\n",
    "    df_sucio = pd.read_csv(\"df_sucio.csv\", encoding=\"utf-8\")\n",
    "    df_sucio, nombres_sucio = traducir_columnas(df_sucio, traducciones)\n",
    "    df_sucio.to_csv(\"df_sucio_es.csv\", index=False, encoding=\"utf-8-sig\")\n",
    "    print(\" Archivo 'df_sucio.csv' traducido y guardado como 'df_sucio_es.csv'\")\n",
    "except FileNotFoundError:\n",
    "    print(\"No se encontró el archivo 'df_sucio.csv'. Asegúrate de tenerlo en la misma carpeta.\")\n",
    "\n",
    "# --- Traducir el csv limpio ---\n",
    "try:\n",
    "    df_limpio = pd.read_csv(\"df_limpio.csv\", encoding=\"utf-8\")\n",
    "    df_limpio, nombres_limpio = traducir_columnas(df_limpio, traducciones)\n",
    "    df_limpio.to_csv(\"df_limpio_es.csv\", index=False, encoding=\"utf-8-sig\")\n",
    "    print(\" Archivo 'df_limpio.csv' traducido y guardado como 'df_limpio_es.csv'\")\n",
    "except FileNotFoundError:\n",
    "    print(\" No se encontró el archivo 'df_limpio.csv'. Asegúrate de tenerlo en la misma carpeta.\")\n",
    "\n",
    "# --- Mostrar resumen de traducciones ---\n",
    "print(\"\\nTraducciones aplicadas:\")\n",
    "for clave, valor in traducciones.items():\n",
    "    print(f\"{clave} → {valor}\")\n"
   ]
  }
 ],
 "metadata": {
  "kernelspec": {
   "display_name": "Python 3",
   "language": "python",
   "name": "python3"
  },
  "language_info": {
   "codemirror_mode": {
    "name": "ipython",
    "version": 3
   },
   "file_extension": ".py",
   "mimetype": "text/x-python",
   "name": "python",
   "nbconvert_exporter": "python",
   "pygments_lexer": "ipython3",
   "version": "3.11.9"
  }
 },
 "nbformat": 4,
 "nbformat_minor": 5
}
